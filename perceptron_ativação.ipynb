{
  "nbformat": 4,
  "nbformat_minor": 0,
  "metadata": {
    "colab": {
      "provenance": [],
      "gpuType": "T4",
      "authorship_tag": "ABX9TyP0HO6AoIApZmOJLE9lC7Ed",
      "include_colab_link": true
    },
    "kernelspec": {
      "name": "python3",
      "display_name": "Python 3"
    },
    "language_info": {
      "name": "python"
    },
    "accelerator": "GPU",
    "gpuClass": "standard"
  },
  "cells": [
    {
      "cell_type": "markdown",
      "metadata": {
        "id": "view-in-github",
        "colab_type": "text"
      },
      "source": [
        "<a href=\"https://colab.research.google.com/github/ShiroiYuutsu/AI-Study/blob/main/perceptron_ativa%C3%A7%C3%A3o.ipynb\" target=\"_parent\"><img src=\"https://colab.research.google.com/assets/colab-badge.svg\" alt=\"Open In Colab\"/></a>"
      ]
    },
    {
      "cell_type": "markdown",
      "source": [],
      "metadata": {
        "id": "ZYKLF7DY764c"
      }
    },
    {
      "cell_type": "markdown",
      "source": [
        "Importando numpy e criando entradas e pesos"
      ],
      "metadata": {
        "id": "DfARMQn679f0"
      }
    },
    {
      "cell_type": "code",
      "execution_count": null,
      "metadata": {
        "id": "NGydU-y-5BNi"
      },
      "outputs": [],
      "source": [
        "import numpy as np\n",
        "\n",
        "entradas = np.array([[0,0], [0,1], [1,0], [1,1]])\n",
        "pesos = np.array([0.0, 0.0])\n",
        "saidas = np.array([0, 0, 0, 1])\n",
        "\n",
        "TaxaAprendizado = 0.5"
      ]
    },
    {
      "cell_type": "markdown",
      "source": [
        "Função soma: Através do comando .dot será realizado o produto escalar -> e(1) * p(1) + e(2) * p(2)..."
      ],
      "metadata": {
        "id": "Dg_QqQnV8DTP"
      }
    },
    {
      "cell_type": "code",
      "source": [
        "def Soma (e, p):\n",
        "  return e.dot(p)"
      ],
      "metadata": {
        "id": "Wt4GvwdL5kNP"
      },
      "execution_count": null,
      "outputs": []
    },
    {
      "cell_type": "markdown",
      "source": [
        "Função degrau: irá usar o resultado da função soma (s) e usar para decidir se o neuronio será ativado ou não"
      ],
      "metadata": {
        "id": "1Ejm19rF8t-M"
      }
    },
    {
      "cell_type": "code",
      "source": [
        "def stepFunction (soma):\n",
        " if (soma >= 1):\n",
        "  return 1\n",
        " else:\n",
        "  return 0"
      ],
      "metadata": {
        "id": "cJ7nUnMV6WFq"
      },
      "execution_count": null,
      "outputs": []
    },
    {
      "cell_type": "code",
      "source": [
        "def calculoSaida(reg):\n",
        "  s = reg.dot(pesos)\n",
        "  return stepFunction(s)"
      ],
      "metadata": {
        "id": "UtWFk-W2D3-t"
      },
      "execution_count": null,
      "outputs": []
    },
    {
      "cell_type": "code",
      "source": [
        "def AprendeAtualiza():\n",
        " erroTotal = 1\n",
        " while (erroTotal != 0):\n",
        "  erroTotal = 0\n",
        "  for i in range (len(saidas)):\n",
        "    saidaCalc = calculoSaida(np.array(entradas[i]))\n",
        "    erro = abs(saidas[i] - saidaCalc)\n",
        "    erroTotal += erro\n",
        "    for j in range(len(pesos)):\n",
        "      pesos[j] = pesos[j] + (TaxaAprendizado * entradas[i][j] * erro)\n",
        "      print('Pesos Atualizados -> ' + str(pesos[j]))\n",
        "  print('Total de erros -> ' + str(erroTotal))\n",
        "\n",
        "AprendeAtualiza()\n",
        "\n",
        "\n"
      ],
      "metadata": {
        "colab": {
          "base_uri": "https://localhost:8080/"
        },
        "id": "2mvYJJqrPMHV",
        "outputId": "79d014b2-3247-4b02-d96f-bff01645f24f"
      },
      "execution_count": null,
      "outputs": [
        {
          "output_type": "stream",
          "name": "stdout",
          "text": [
            "Pesos Atualizados -> 0.0\n",
            "Pesos Atualizados -> 0.0\n",
            "Pesos Atualizados -> 0.0\n",
            "Pesos Atualizados -> 0.0\n",
            "Pesos Atualizados -> 0.0\n",
            "Pesos Atualizados -> 0.0\n",
            "Pesos Atualizados -> 0.5\n",
            "Pesos Atualizados -> 0.5\n",
            "Total de erros -> 1\n",
            "Pesos Atualizados -> 0.5\n",
            "Pesos Atualizados -> 0.5\n",
            "Pesos Atualizados -> 0.5\n",
            "Pesos Atualizados -> 0.5\n",
            "Pesos Atualizados -> 0.5\n",
            "Pesos Atualizados -> 0.5\n",
            "Pesos Atualizados -> 0.5\n",
            "Pesos Atualizados -> 0.5\n",
            "Total de erros -> 0\n"
          ]
        }
      ]
    }
  ]
}